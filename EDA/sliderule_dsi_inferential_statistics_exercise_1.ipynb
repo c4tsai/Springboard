{
 "cells": [
  {
   "cell_type": "markdown",
   "metadata": {},
   "source": [
    "# What is the True Normal Human Body Temperature? \n",
    "\n",
    "#### Background\n",
    "\n",
    "The mean normal body temperature was held to be 37$^{\\circ}$C or 98.6$^{\\circ}$F for more than 120 years since it was first conceptualized and reported by Carl Wunderlich in a famous 1868 book. But, is this value statistically correct?"
   ]
  },
  {
   "cell_type": "markdown",
   "metadata": {},
   "source": [
    "<h3>Exercises</h3>\n",
    "\n",
    "<p>In this exercise, you will analyze a dataset of human body temperatures and employ the concepts of hypothesis testing, confidence intervals, and statistical significance.</p>\n",
    "\n",
    "<p>Answer the following questions <b>in this notebook below and submit to your Github account</b>.</p> \n",
    "\n",
    "<ol>\n",
    "<li>  Is the distribution of body temperatures normal? \n",
    "    <ul>\n",
    "    <li> Although this is not a requirement for the Central Limit Theorem to hold (read the introduction on Wikipedia's page about the CLT carefully: https://en.wikipedia.org/wiki/Central_limit_theorem), it gives us some peace of mind that the population may also be normally distributed if we assume that this sample is representative of the population.\n",
    "    <li> Think about the way you're going to check for the normality of the distribution. Graphical methods are usually used first, but there are also other ways: https://en.wikipedia.org/wiki/Normality_test\n",
    "    </ul>\n",
    "<li>  Is the sample size large? Are the observations independent?\n",
    "    <ul>\n",
    "    <li> Remember that this is a condition for the Central Limit Theorem, and hence the statistical tests we are using, to apply.\n",
    "    </ul>\n",
    "<li>  Is the true population mean really 98.6 degrees F?\n",
    "    <ul>\n",
    "    <li> First, try a bootstrap hypothesis test.\n",
    "    <li> Now, let's try frequentist statistical testing. Would you use a one-sample or two-sample test? Why?\n",
    "    <li> In this situation, is it appropriate to use the $t$ or $z$ statistic? \n",
    "    <li> Now try using the other test. How is the result be different? Why?\n",
    "    </ul>\n",
    "<li>  Draw a small sample of size 10 from the data and repeat both frequentist tests. \n",
    "    <ul>\n",
    "    <li> Which one is the correct one to use? \n",
    "    <li> What do you notice? What does this tell you about the difference in application of the $t$ and $z$ statistic?\n",
    "    </ul>\n",
    "<li>  At what temperature should we consider someone's temperature to be \"abnormal\"?\n",
    "    <ul>\n",
    "    <li> As in the previous example, try calculating everything using the boostrap approach, as well as the frequentist approach.\n",
    "    <li> Start by computing the margin of error and confidence interval. When calculating the confidence interval, keep in mind that you should use the appropriate formula for one draw, and not N draws.\n",
    "    </ul>\n",
    "<li>  Is there a significant difference between males and females in normal temperature?\n",
    "    <ul>\n",
    "    <li> What testing approach did you use and why?\n",
    "    <li> Write a story with your conclusion in the context of the original problem.\n",
    "    </ul>\n",
    "</ol>\n",
    "\n",
    "You can include written notes in notebook cells using Markdown: \n",
    "   - In the control panel at the top, choose Cell > Cell Type > Markdown\n",
    "   - Markdown syntax: http://nestacms.com/docs/creating-content/markdown-cheat-sheet\n",
    "\n",
    "#### Resources\n",
    "\n",
    "+ Information and data sources: http://www.amstat.org/publications/jse/datasets/normtemp.txt, http://www.amstat.org/publications/jse/jse_data_archive.htm\n",
    "+ Markdown syntax: http://nestacms.com/docs/creating-content/markdown-cheat-sheet\n",
    "\n",
    "****"
   ]
  },
  {
   "cell_type": "code",
   "execution_count": 1,
   "metadata": {},
   "outputs": [],
   "source": [
    "import pandas as pd\n",
    "import numpy as np\n",
    "import matplotlib.pyplot as plt\n",
    "import math\n",
    "\n",
    "import scipy.stats as stats"
   ]
  },
  {
   "cell_type": "code",
   "execution_count": 2,
   "metadata": {},
   "outputs": [],
   "source": [
    "df = pd.read_csv('data/human_body_temperature.csv')\n",
    "%matplotlib inline"
   ]
  },
  {
   "cell_type": "markdown",
   "metadata": {},
   "source": [
    "## Question 1"
   ]
  },
  {
   "cell_type": "markdown",
   "metadata": {},
   "source": [
    "While the data would most rationally have the central limit theorem apply by virtue of having finite mean and variance, it still serves good to check the assumptions. We have reason to believe that the distribution is normally distributed, and to check this, we use a q-q plot against a standard normal distribution."
   ]
  },
  {
   "cell_type": "code",
   "execution_count": 3,
   "metadata": {},
   "outputs": [
    {
     "data": {
      "text/plain": [
       "[<matplotlib.lines.Line2D at 0x1b2fc3f95c0>]"
      ]
     },
     "execution_count": 3,
     "metadata": {},
     "output_type": "execute_result"
    },
    {
     "data": {
      "image/png": "[encoded data removed]",
      "text/plain": [
       "<Figure size 432x288 with 1 Axes>"
      ]
     },
     "metadata": {
      "needs_background": "light"
     },
     "output_type": "display_data"
    }
   ],
   "source": [
    "temp = df.temperature\n",
    "temp_zscore = np.sort((temp - temp.mean())/temp.std())\n",
    "normal_scale = np.random.normal(0,1,10000)\n",
    "percentiles = np.percentile(normal_scale, np.linspace(0,100,len(temp_zscore)))\n",
    "\n",
    "plt.plot(percentiles, temp_zscore, ls=\"\", marker=\".\", alpha=0.7)\n",
    "plt.plot([-3, 3], [-3, 3], ls=\"-\", marker=\"\", color=\"grey\")"
   ]
  },
  {
   "cell_type": "markdown",
   "metadata": {},
   "source": [
    "From the output of the q-q plot, it seems to agree fairly well because it lies on a straight line against a standard normal distribution, at least in the center portion of the distribution. The top tail is thinner than the normal distribution, with the exception of the far outlier in both directions. Overall, this is probably close enough to normal for the z- and t- tests because they are rather robust.\n",
    "\n",
    "We can further test this by using a test of normality, such as an Anderson–Darling Test. With the number of data points we have, we would need to see an adjusted A-squared statistic greater than 0.754 to reject the null hypothesis of normally distributed at the p = 0.05 level of significance. "
   ]
  },
  {
   "cell_type": "code",
   "execution_count": 4,
   "metadata": {},
   "outputs": [],
   "source": [
    "def phi(x):\n",
    "    # Cumulative distribution function for the standard normal distribution\n",
    "    return (1 + math.erf(x / math.sqrt(2))) / 2"
   ]
  },
  {
   "cell_type": "code",
   "execution_count": 5,
   "metadata": {},
   "outputs": [
    {
     "data": {
      "text/plain": [
       "0.5353376946195331"
      ]
     },
     "execution_count": 5,
     "metadata": {},
     "output_type": "execute_result"
    }
   ],
   "source": [
    "a_sq_sum = 0\n",
    "n = len(temp_zscore)\n",
    "for i in range(n):\n",
    "    a_sq_sum += (2*(i+1)-1) * math.log(phi(temp_zscore[i]))+(2*(n-(i+1))+1)*math.log(1-phi(temp_zscore[i]))\n",
    "a_sq_adj = (-n - 1/n * a_sq_sum) * (1 + 4/n - (5/n) ** 2)\n",
    "a_sq_adj"
   ]
  },
  {
   "cell_type": "markdown",
   "metadata": {},
   "source": [
    "Since the test statistic does not meet our rejection threshold (0.754), we fail to reject the null hypothesis, so we can proceed assuming that the distribution is well-approximated by the normal distribution. "
   ]
  },
  {
   "cell_type": "markdown",
   "metadata": {},
   "source": [
    "## Question 2"
   ]
  },
  {
   "cell_type": "markdown",
   "metadata": {},
   "source": [
    "A sample size of 130 is generally considered large enough to be able to use a z-test approximation for the normal distribution with the Central Limit Theorem. We can only hope that the data has been collected in a manner which is statistically independent, such as selecting the sample in a way to minimize biases, since there isn't a good way to test for this within the data. "
   ]
  },
  {
   "cell_type": "markdown",
   "metadata": {},
   "source": [
    "## Question 3"
   ]
  },
  {
   "cell_type": "markdown",
   "metadata": {},
   "source": [
    "To test this, we can approach this in a number of ways. We can do a simulation or frequentist methods to answer the question. "
   ]
  },
  {
   "cell_type": "markdown",
   "metadata": {},
   "source": [
    "### Bootstrap Simulation"
   ]
  },
  {
   "cell_type": "code",
   "execution_count": 6,
   "metadata": {},
   "outputs": [],
   "source": [
    "def draw_bs_replica(data, func, size=1):\n",
    "    # This function draws the replicates\n",
    "    replicates = np.empty(size)\n",
    "    for i in range(size):\n",
    "        replicates[i] = func(np.random.choice(data, size=len(data)))\n",
    "    return replicates"
   ]
  },
  {
   "cell_type": "markdown",
   "metadata": {},
   "source": [
    "We first need to figure out how extreme the observed value is from our hypothesized mean, 98.6:"
   ]
  },
  {
   "cell_type": "code",
   "execution_count": 7,
   "metadata": {},
   "outputs": [
    {
     "data": {
      "text/plain": [
       "0.35076923076921673"
      ]
     },
     "execution_count": 7,
     "metadata": {},
     "output_type": "execute_result"
    }
   ],
   "source": [
    "diff = 98.6 - temp.mean()\n",
    "diff"
   ]
  },
  {
   "cell_type": "markdown",
   "metadata": {},
   "source": [
    "Then, we do a two-sided bootstrap test and check the number of samples returned a more extreme value than the one we observed:"
   ]
  },
  {
   "cell_type": "code",
   "execution_count": 8,
   "metadata": {},
   "outputs": [
    {
     "data": {
      "text/plain": [
       "0.4919"
      ]
     },
     "execution_count": 8,
     "metadata": {},
     "output_type": "execute_result"
    }
   ],
   "source": [
    "np.random.seed(3)\n",
    "replicates = draw_bs_replica(temp, np.mean, 10000)\n",
    "p = np.sum(np.logical_or(-diff >= 98.6 - replicates, 98.6 - replicates >= diff)) / len(replicates)\n",
    "p"
   ]
  },
  {
   "cell_type": "markdown",
   "metadata": {},
   "source": [
    "Since a value in the 0.4-0.5 range is not a significant p-value, we fail to find any evidence to reject the null hypothesis of that the true population mean is 98.6 by the bootstrap method. "
   ]
  },
  {
   "cell_type": "markdown",
   "metadata": {},
   "source": [
    "### Frequentist Analysis"
   ]
  },
  {
   "cell_type": "markdown",
   "metadata": {},
   "source": [
    "We see that there is one sample because we are concerned with our temperature matches a \"known value\". Our sample size should be large enough to just use a z-test, but for completeness, a z-test and a t-test will be conducted."
   ]
  },
  {
   "cell_type": "code",
   "execution_count": 9,
   "metadata": {},
   "outputs": [
    {
     "data": {
      "text/plain": [
       "-5.454823292364079"
      ]
     },
     "execution_count": 9,
     "metadata": {},
     "output_type": "execute_result"
    }
   ],
   "source": [
    "z_stat = (temp.mean() - 98.6)/(temp.std() / math.sqrt(len(temp)))\n",
    "z_stat"
   ]
  },
  {
   "cell_type": "markdown",
   "metadata": {},
   "source": [
    "This z-statistic is so far outside the normal range that even without looking at a z-table one can easily reject the null hypothesis. That is, the data contains enough evidence that the true mean is not 98.6 degrees F. This would be true regardless of if the z-test or the t-test were taken; that is how extreme this statistic is. "
   ]
  },
  {
   "cell_type": "markdown",
   "metadata": {},
   "source": [
    "## Question 4"
   ]
  },
  {
   "cell_type": "markdown",
   "metadata": {},
   "source": [
    "To investigate the effect of the sample size on the test statistics, we first will be drawing from a sample of the data we do have. "
   ]
  },
  {
   "cell_type": "code",
   "execution_count": 10,
   "metadata": {},
   "outputs": [],
   "source": [
    "np.random.seed(4)\n",
    "sample = np.random.choice(temp, 10)"
   ]
  },
  {
   "cell_type": "markdown",
   "metadata": {},
   "source": [
    "Then, we take the z-statistic of our new sample:"
   ]
  },
  {
   "cell_type": "code",
   "execution_count": 11,
   "metadata": {},
   "outputs": [
    {
     "data": {
      "text/plain": [
       "-1.2309149097933223"
      ]
     },
     "execution_count": 11,
     "metadata": {},
     "output_type": "execute_result"
    }
   ],
   "source": [
    "z_stat_samp = (sample.mean() - 98.6)/(sample.std() / math.sqrt(len(sample)))\n",
    "z_stat_samp"
   ]
  },
  {
   "cell_type": "markdown",
   "metadata": {},
   "source": [
    "We can calculate the corresonding one-sided p-value by applying phi(x):"
   ]
  },
  {
   "cell_type": "code",
   "execution_count": 12,
   "metadata": {},
   "outputs": [
    {
     "data": {
      "text/plain": [
       "0.10917734528295181"
      ]
     },
     "execution_count": 12,
     "metadata": {},
     "output_type": "execute_result"
    }
   ],
   "source": [
    "z_pval = phi(z_stat_samp)\n",
    "z_pval"
   ]
  },
  {
   "cell_type": "markdown",
   "metadata": {},
   "source": [
    "And the correspoding one-sided one-sample t-test uses the following:"
   ]
  },
  {
   "cell_type": "code",
   "execution_count": 13,
   "metadata": {},
   "outputs": [
    {
     "data": {
      "text/plain": [
       "0.1247760127206702"
      ]
     },
     "execution_count": 13,
     "metadata": {},
     "output_type": "execute_result"
    }
   ],
   "source": [
    "t_pval = stats.t.cdf(x=z_stat_samp, df=9)\n",
    "t_pval"
   ]
  },
  {
   "cell_type": "markdown",
   "metadata": {},
   "source": [
    "We can see that the p-value is larger, representing the thicker tails of the t-distribution compared to a standard Gaussian distribution. However, since the z-test already is not significant at even the 10% level, the t-test shows that it is even more so."
   ]
  },
  {
   "cell_type": "markdown",
   "metadata": {},
   "source": [
    "## Question 5"
   ]
  },
  {
   "cell_type": "markdown",
   "metadata": {},
   "source": [
    "To answer this question, we can construct a prediction interval with approximately $\\alpha=0.05$. Then, we can deem observations outside our prediction interval to be unlikely. We shall do this in the bootstrap method and in the frequentist method. "
   ]
  },
  {
   "cell_type": "markdown",
   "metadata": {},
   "source": [
    "First, we note the fact that order statistics $[X_{(i)}, X_{(j)}]$ forms a prediction interval with  $\\alpha = 1 - \\frac{n+1-2i}{n+1}$ provided that $i < j, i+j-1 = n$. For our sample size of 130, this means we need to take the 3rd order statistic and the 128th order statistic for the closest value of alpha being 0.0458 (exact value $\\frac{6}{131}$)."
   ]
  },
  {
   "cell_type": "code",
   "execution_count": 25,
   "metadata": {},
   "outputs": [
    {
     "data": {
      "text/plain": [
       "(96.7, 99.9)"
      ]
     },
     "execution_count": 25,
     "metadata": {},
     "output_type": "execute_result"
    }
   ],
   "source": [
    "(np.sort(temp)[2], np.sort(temp)[-3])"
   ]
  },
  {
   "cell_type": "markdown",
   "metadata": {},
   "source": [
    "We then refine this a bit more by adding bootstrapping:"
   ]
  },
  {
   "cell_type": "code",
   "execution_count": 35,
   "metadata": {},
   "outputs": [
    {
     "data": {
      "text/plain": [
       "(96.64229000000002, 99.79866)"
      ]
     },
     "execution_count": 35,
     "metadata": {},
     "output_type": "execute_result"
    }
   ],
   "source": [
    "np.random.seed(5)\n",
    "lower_b = draw_bs_replica(temp, lambda x: np.sort(x)[2], 10000)\n",
    "upper_b = draw_bs_replica(temp, lambda x: np.sort(x)[-3], 10000)\n",
    "(lower_b.mean(), upper_b.mean())"
   ]
  },
  {
   "cell_type": "markdown",
   "metadata": {},
   "source": [
    "For the frequentist approach, we construct a prediction interval using the t-distribution using the following distribution:"
   ]
  },
  {
   "cell_type": "code",
   "execution_count": 34,
   "metadata": {},
   "outputs": [
    {
     "data": {
      "text/latex": [
       "\\begin{equation}\n",
       "\\frac{X_{n+1} - \\bar{X}_n}{s_n \\sqrt{1+1/n}} \\sim T_{n-1}\n",
       "\\end{equation}\n"
      ],
      "text/plain": [
       "<IPython.core.display.Latex object>"
      ]
     },
     "metadata": {},
     "output_type": "display_data"
    }
   ],
   "source": [
    "%%latex \n",
    "\\begin{equation}\n",
    "\\frac{X_{n+1} - \\bar{X}_n}{s_n \\sqrt{1+1/n}} \\sim T_{n-1}\n",
    "\\end{equation}"
   ]
  },
  {
   "cell_type": "markdown",
   "metadata": {},
   "source": [
    "To be comparable with our non-parametric method above, we will set our alpha to match as well. "
   ]
  },
  {
   "cell_type": "code",
   "execution_count": 38,
   "metadata": {},
   "outputs": [
    {
     "data": {
      "text/plain": [
       "(96.76493540616197, 99.73352613229959)"
      ]
     },
     "execution_count": 38,
     "metadata": {},
     "output_type": "execute_result"
    }
   ],
   "source": [
    "margin = temp.std()*math.sqrt(1+1/len(temp))*stats.t.ppf(1-3/131, 129)\n",
    "(temp.mean() - margin, temp.mean() + margin)"
   ]
  },
  {
   "cell_type": "markdown",
   "metadata": {},
   "source": [
    "We can see that both methods agree that a temperature above about 99.75 is considered abnormally high, while a temperature below about 96.7 is considered abnormally low."
   ]
  },
  {
   "cell_type": "markdown",
   "metadata": {},
   "source": [
    "## Question 6"
   ]
  },
  {
   "cell_type": "markdown",
   "metadata": {},
   "source": [
    "This question asks us to compare the means of two populations. We can do this via bootstrapping or by doing an unpaired two-sample t-test."
   ]
  },
  {
   "cell_type": "code",
   "execution_count": 57,
   "metadata": {},
   "outputs": [
    {
     "data": {
      "text/plain": [
       "-0.289230769230727"
      ]
     },
     "execution_count": 57,
     "metadata": {},
     "output_type": "execute_result"
    }
   ],
   "source": [
    "temp_m = temp[df.gender == \"M\"]\n",
    "temp_f = temp[df.gender == \"F\"]\n",
    "gender_mean_diff = np.mean(temp_m) - np.mean(temp_f)\n",
    "gender_mean_diff"
   ]
  },
  {
   "cell_type": "code",
   "execution_count": 61,
   "metadata": {},
   "outputs": [
    {
     "data": {
      "text/plain": [
       "0.0108"
      ]
     },
     "execution_count": 61,
     "metadata": {},
     "output_type": "execute_result"
    }
   ],
   "source": [
    "def draw_bs_replica_paired(data, func, n, size=1):\n",
    "    # This function draws the replicates\n",
    "    replicates_a = np.empty(size)\n",
    "    replicates_b = np.empty(size)\n",
    "    for i in range(size):\n",
    "        replicates = np.random.choice(data, size=len(data))\n",
    "        replicates_a[i] = func(replicates[:n])\n",
    "        replicates_b[i] = func(replicates[n:])\n",
    "    return replicates_a, replicates_b\n",
    "np.random.seed(6)\n",
    "paired_rep_M, paired_rep_F = draw_bs_replica_paired(temp, np.mean, len(temp_m), 10000)\n",
    "gender_diff_bootstrap = paired_rep_M - paired_rep_F\n",
    "p_bootstrap = sum(gender_diff_bootstrap <= gender_mean_diff) / len(gender_diff_bootstrap)\n",
    "p_bootstrap"
   ]
  },
  {
   "cell_type": "markdown",
   "metadata": {},
   "source": [
    "We see from the above that our bootstrap test states that only about 1% of the replicates showed as or more extreme of a value as the real difference. Next, we do Welch's t-test to verify this result. "
   ]
  },
  {
   "cell_type": "code",
   "execution_count": 68,
   "metadata": {},
   "outputs": [
    {
     "data": {
      "text/plain": [
       "0.011969132091477257"
      ]
     },
     "execution_count": 68,
     "metadata": {},
     "output_type": "execute_result"
    }
   ],
   "source": [
    "se = np.sqrt(np.var(temp_m, ddof=1)/len(temp_m) + np.var(temp_f, ddof=1)/len(temp_f))\n",
    "nu = (np.var(temp_m, ddof=1)/len(temp_m) + np.var(temp_f, ddof=1)/len(temp_f)) ** 2 / (np.var(temp_m, ddof=1)**2/((len(temp_m)-1)*len(temp_m)**2) + (np.var(temp_f, ddof=1)**2/((len(temp_f)-1)*len(temp_f)**2)))\n",
    "t = gender_mean_diff / se \n",
    "p_welch = stats.t.cdf(x=t, df=nu)\n",
    "p_welch"
   ]
  },
  {
   "cell_type": "markdown",
   "metadata": {},
   "source": [
    "Since Welch's t-test also shows a p-value in the 1% range, we can say that at the alpha = 0.05 level, there is evidence that the mean temperature between male and female subjects are different. "
   ]
  },
  {
   "cell_type": "code",
   "execution_count": null,
   "metadata": {},
   "outputs": [],
   "source": []
  }
 ],
 "metadata": {
  "kernelspec": {
   "display_name": "Python 3",
   "language": "python",
   "name": "python3"
  },
  "language_info": {
   "codemirror_mode": {
    "name": "ipython",
    "version": 3
   },
   "file_extension": ".py",
   "mimetype": "text/x-python",
   "name": "python",
   "nbconvert_exporter": "python",
   "pygments_lexer": "ipython3",
   "version": "3.7.1"
  }
 },
 "nbformat": 4,
 "nbformat_minor": 1
}
