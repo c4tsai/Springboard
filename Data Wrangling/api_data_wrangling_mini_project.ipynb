{
 "cells": [
  {
   "cell_type": "markdown",
   "metadata": {},
   "source": [
    "This exercise will require you to pull some data from the Qunadl API. Qaundl is currently the most widely used aggregator of financial market data."
   ]
  },
  {
   "cell_type": "markdown",
   "metadata": {},
   "source": [
    "As a first step, you will need to register a free account on the http://www.quandl.com website."
   ]
  },
  {
   "cell_type": "markdown",
   "metadata": {},
   "source": [
    "After you register, you will be provided with a unique API key, that you should store:"
   ]
  },
  {
   "cell_type": "code",
   "execution_count": 2,
   "metadata": {},
   "outputs": [],
   "source": [
    "# Store the API key as a string - according to PEP8, constants are always named in all upper case\n",
    "API_KEY = 'T8vgAsnQkxGs5TzuC-Hs'"
   ]
  },
  {
   "cell_type": "markdown",
   "metadata": {},
   "source": [
    "Qaundl has a large number of data sources, but, unfortunately, most of them require a Premium subscription. Still, there are also a good number of free datasets."
   ]
  },
  {
   "cell_type": "markdown",
   "metadata": {},
   "source": [
    "For this mini project, we will focus on equities data from the Frankfurt Stock Exhange (FSE), which is available for free. We'll try and analyze the stock prices of a company called Carl Zeiss Meditec, which manufactures tools for eye examinations, as well as medical lasers for laser eye surgery: https://www.zeiss.com/meditec/int/home.html. The company is listed under the stock ticker AFX_X."
   ]
  },
  {
   "cell_type": "markdown",
   "metadata": {},
   "source": [
    "You can find the detailed Quandl API instructions here: https://docs.quandl.com/docs/time-series"
   ]
  },
  {
   "cell_type": "markdown",
   "metadata": {},
   "source": [
    "While there is a dedicated Python package for connecting to the Quandl API, we would prefer that you use the *requests* package, which can be easily downloaded using *pip* or *conda*. You can find the documentation for the package here: http://docs.python-requests.org/en/master/ "
   ]
  },
  {
   "cell_type": "markdown",
   "metadata": {},
   "source": [
    "Finally, apart from the *requests* package, you are encouraged to not use any third party Python packages, such as *pandas*, and instead focus on what's available in the Python Standard Library (the *collections* module might come in handy: https://pymotw.com/3/collections/ ).\n",
    "Also, since you won't have access to DataFrames, you are encouraged to us Python's native data structures - preferably dictionaries, though some questions can also be answered using lists.\n",
    "You can read more on these data structures here: https://docs.python.org/3/tutorial/datastructures.html"
   ]
  },
  {
   "cell_type": "markdown",
   "metadata": {},
   "source": [
    "Keep in mind that the JSON responses you will be getting from the API map almost one-to-one to Python's dictionaries. Unfortunately, they can be very nested, so make sure you read up on indexing dictionaries in the documentation provided above."
   ]
  },
  {
   "cell_type": "code",
   "execution_count": 1,
   "metadata": {},
   "outputs": [],
   "source": [
    "# First, import the relevant modules\n",
    "import requests\n"
   ]
  },
  {
   "cell_type": "code",
   "execution_count": 5,
   "metadata": {},
   "outputs": [],
   "source": [
    "# Now, call the Quandl API and pull out a small sample of the data (only one day) to get a glimpse\n",
    "# into the JSON structure that will be returned\n",
    "headers = {\n",
    "    \"start_date\": \"2014-01-01\",\n",
    "    \"end_date\"  : \"2014-01-02\",\n",
    "    \"api_key\"   : API_KEY\n",
    "}\n",
    "sample_request = requests.get(\"https://www.quandl.com/api/v3/datasets/FSE/AFX_X/data.json\", params=headers)"
   ]
  },
  {
   "cell_type": "code",
   "execution_count": 6,
   "metadata": {},
   "outputs": [
    {
     "data": {
      "text/plain": [
       "{'dataset_data': {'limit': None,\n",
       "  'transform': None,\n",
       "  'column_index': None,\n",
       "  'column_names': ['Date',\n",
       "   'Open',\n",
       "   'High',\n",
       "   'Low',\n",
       "   'Close',\n",
       "   'Change',\n",
       "   'Traded Volume',\n",
       "   'Turnover',\n",
       "   'Last Price of the Day',\n",
       "   'Daily Traded Units',\n",
       "   'Daily Turnover'],\n",
       "  'start_date': '2014-01-01',\n",
       "  'end_date': '2014-01-02',\n",
       "  'frequency': 'daily',\n",
       "  'data': [['2014-01-02',\n",
       "    24.24,\n",
       "    24.76,\n",
       "    23.77,\n",
       "    24.18,\n",
       "    None,\n",
       "    55735.0,\n",
       "    1355658.0,\n",
       "    None,\n",
       "    None,\n",
       "    None]],\n",
       "  'collapse': None,\n",
       "  'order': None}}"
      ]
     },
     "execution_count": 6,
     "metadata": {},
     "output_type": "execute_result"
    }
   ],
   "source": [
    "# Inspect the JSON structure of the object you created, and take note of how nested it is,\n",
    "# as well as the overall structure\n",
    "sample_request.json()"
   ]
  },
  {
   "cell_type": "markdown",
   "metadata": {},
   "source": [
    "These are your tasks for this mini project:\n",
    "\n",
    "1. Collect data from the Franfurt Stock Exchange, for the ticker AFX_X, for the whole year 2017 (keep in mind that the date format is YYYY-MM-DD).\n",
    "2. Convert the returned JSON object into a Python dictionary.\n",
    "3. Calculate what the highest and lowest opening prices were for the stock in this period.\n",
    "4. What was the largest change in any one day (based on High and Low price)?\n",
    "5. What was the largest change between any two days (based on Closing Price)?\n",
    "6. What was the average daily trading volume during this year?\n",
    "7. (Optional) What was the median trading volume during this year. (Note: you may need to implement your own function for calculating the median.)"
   ]
  },
  {
   "cell_type": "markdown",
   "metadata": {},
   "source": [
    "First, we call the API to get the data for the year requested. "
   ]
  },
  {
   "cell_type": "code",
   "execution_count": 7,
   "metadata": {},
   "outputs": [],
   "source": [
    "headers = {\n",
    "    \"start_date\": \"2017-01-01\",\n",
    "    \"end_date\"  : \"2017-12-31\",\n",
    "    \"api_key\"   : API_KEY\n",
    "}\n",
    "data_raw = requests.get(\"https://www.quandl.com/api/v3/datasets/FSE/AFX_X/data.json\", params=headers)"
   ]
  },
  {
   "cell_type": "markdown",
   "metadata": {},
   "source": [
    "Then, we change the JSON into a dictionary using the `.json` method."
   ]
  },
  {
   "cell_type": "code",
   "execution_count": 9,
   "metadata": {},
   "outputs": [],
   "source": [
    "dat_dict = data_raw.json()"
   ]
  },
  {
   "cell_type": "markdown",
   "metadata": {},
   "source": [
    "It might help for us to extract the inner data list of lists from the dictionary for easy working, ane enumerate the headers for easy reference."
   ]
  },
  {
   "cell_type": "code",
   "execution_count": 37,
   "metadata": {},
   "outputs": [
    {
     "data": {
      "text/plain": [
       "{0: 'Date',\n",
       " 1: 'Open',\n",
       " 2: 'High',\n",
       " 3: 'Low',\n",
       " 4: 'Close',\n",
       " 5: 'Change',\n",
       " 6: 'Traded Volume',\n",
       " 7: 'Turnover',\n",
       " 8: 'Last Price of the Day',\n",
       " 9: 'Daily Traded Units',\n",
       " 10: 'Daily Turnover'}"
      ]
     },
     "execution_count": 37,
     "metadata": {},
     "output_type": "execute_result"
    }
   ],
   "source": [
    "dat_list = dat_dict[\"dataset_data\"][\"data\"]\n",
    "col_names = dict(enumerate(dat_dict[\"dataset_data\"][\"column_names\"]))\n",
    "col_names"
   ]
  },
  {
   "cell_type": "markdown",
   "metadata": {},
   "source": [
    "We notice from our quick glance above that the Open price is found in column 1 of the data. Furthermore, we notice that sometimes we have missing values represented as None, so that also needs to be taken into account. Thus, we can write:"
   ]
  },
  {
   "cell_type": "code",
   "execution_count": 28,
   "metadata": {},
   "outputs": [
    {
     "data": {
      "text/plain": [
       "(34.0, 53.11)"
      ]
     },
     "execution_count": 28,
     "metadata": {},
     "output_type": "execute_result"
    }
   ],
   "source": [
    "opens = [entry[1] for entry in dat_list if entry[1]]\n",
    "(min(opens), max(opens))"
   ]
  },
  {
   "cell_type": "markdown",
   "metadata": {},
   "source": [
    "We can use a similar method to calculate the largest change in one day, by calculating the changes of every day in the set and then taking the maximum of the list. "
   ]
  },
  {
   "cell_type": "code",
   "execution_count": 31,
   "metadata": {},
   "outputs": [
    {
     "data": {
      "text/plain": [
       "2.8100000000000023"
      ]
     },
     "execution_count": 31,
     "metadata": {},
     "output_type": "execute_result"
    }
   ],
   "source": [
    "delta = [entry[2] - entry[3] for entry in dat_list if (entry[2] and entry[3])]\n",
    "max(delta)"
   ]
  },
  {
   "cell_type": "markdown",
   "metadata": {},
   "source": [
    "This strategy can also be extended to find the largest change between any two days, although some infrastructure needs to be built first. "
   ]
  },
  {
   "cell_type": "code",
   "execution_count": 50,
   "metadata": {},
   "outputs": [
    {
     "data": {
      "text/plain": [
       "('34.06; date: 2017-01-23', '53.09; date: 2017-12-13')"
      ]
     },
     "execution_count": 50,
     "metadata": {},
     "output_type": "execute_result"
    }
   ],
   "source": [
    "class comp_pair:\n",
    "    def __init__(self, comp, **kwargs):\n",
    "        self.comp = comp\n",
    "        self.lookup = kwargs\n",
    "    def __gt__(self, oth):\n",
    "        return self.comp > oth.comp\n",
    "    def __lt__(self, oth):\n",
    "        return self.comp < oth.comp\n",
    "    def __eq__(self, oth):\n",
    "        return self.comp == oth.comp\n",
    "    def __str__(self):\n",
    "        out = str(self.comp)\n",
    "        for key, value in self.lookup.items():\n",
    "            out = out + \"; \" + str(key) + \": \" + str(value)\n",
    "        return out\n",
    "    \n",
    "close_with_date = [comp_pair(entry[4], date=entry[0]) for entry in dat_list if entry[4]]\n",
    "(str(min(close_with_date)), str(max(close_with_date)))"
   ]
  },
  {
   "cell_type": "code",
   "execution_count": 51,
   "metadata": {},
   "outputs": [
    {
     "data": {
      "text/plain": [
       "19.03"
      ]
     },
     "execution_count": 51,
     "metadata": {},
     "output_type": "execute_result"
    }
   ],
   "source": [
    "53.09 - 34.06"
   ]
  },
  {
   "cell_type": "markdown",
   "metadata": {},
   "source": [
    "From the above we can see that the close price differences were greatest between 2017-12-13 and 2017-01-23 with a difference of 19.03."
   ]
  },
  {
   "cell_type": "markdown",
   "metadata": {},
   "source": [
    "Using the same extraction technique, we can calculate the mean using some basic Python functions:"
   ]
  },
  {
   "cell_type": "code",
   "execution_count": 55,
   "metadata": {},
   "outputs": [
    {
     "data": {
      "text/plain": [
       "89124.33725490196"
      ]
     },
     "execution_count": 55,
     "metadata": {},
     "output_type": "execute_result"
    }
   ],
   "source": [
    "volume = [entry[6] for entry in dat_list if entry[6]]\n",
    "sum(volume)/len(volume)"
   ]
  },
  {
   "cell_type": "markdown",
   "metadata": {},
   "source": [
    "And lastly, we can calculate the median trading volume by writing a custom median function:"
   ]
  },
  {
   "cell_type": "code",
   "execution_count": 75,
   "metadata": {},
   "outputs": [],
   "source": [
    "def median(lst):\n",
    "    def quickselect(lst, k):\n",
    "        if len(lst) == 1:\n",
    "            assert k == 0\n",
    "            return lst[0]\n",
    "        \n",
    "        pivot = lst[int(len(lst)/2)]\n",
    "        lows = [i for i in lst if i < pivot]\n",
    "        high = [i for i in lst if i > pivot]\n",
    "        same = [i for i in lst if i == pivot]\n",
    "        \n",
    "        if k < len(lows):\n",
    "            return quickselect(lows, k)\n",
    "        elif k < len(lows) + len(same):\n",
    "            return pivot\n",
    "        else:\n",
    "            return quickselect(high, k-len(lows)-len(same))\n",
    "        \n",
    "    if len(lst) % 2 == 1:\n",
    "        return quickselect(lst, (len(lst)-1)/2)\n",
    "    else:\n",
    "        return 0.5*(quickselect(lst, len(lst)/2-1)+\n",
    "                    quickselect(lst, len(lst)/2))"
   ]
  },
  {
   "cell_type": "code",
   "execution_count": 76,
   "metadata": {},
   "outputs": [
    {
     "data": {
      "text/plain": [
       "76286.0"
      ]
     },
     "execution_count": 76,
     "metadata": {},
     "output_type": "execute_result"
    }
   ],
   "source": [
    "median(volume)"
   ]
  }
 ],
 "metadata": {
  "kernelspec": {
   "display_name": "Python 3",
   "language": "python",
   "name": "python3"
  },
  "language_info": {
   "codemirror_mode": {
    "name": "ipython",
    "version": 3
   },
   "file_extension": ".py",
   "mimetype": "text/x-python",
   "name": "python",
   "nbconvert_exporter": "python",
   "pygments_lexer": "ipython3",
   "version": "3.7.1"
  }
 },
 "nbformat": 4,
 "nbformat_minor": 2
}
